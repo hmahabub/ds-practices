{
 "cells": [
  {
   "cell_type": "markdown",
   "id": "a81bb19c",
   "metadata": {},
   "source": [
    "# Assignment #2\n",
    "\n",
    "### Name: Hasan Mahabub Sayem     \n",
    "### Mobile: 01832829921"
   ]
  },
  {
   "cell_type": "markdown",
   "id": "93ddf1ca",
   "metadata": {},
   "source": [
    "1. Write a function that will return mutipication of two numbers (with docstring) "
   ]
  },
  {
   "cell_type": "code",
   "execution_count": 5,
   "id": "4e015902",
   "metadata": {},
   "outputs": [
    {
     "data": {
      "text/plain": [
       "6.46"
      ]
     },
     "execution_count": 5,
     "metadata": {},
     "output_type": "execute_result"
    }
   ],
   "source": [
    "def multiply(num1,num2):\n",
    "    '''\n",
    "    multiply two numbers \n",
    "    \n",
    "    Parameters\n",
    "    -----------\n",
    "    num1: int/float\n",
    "            value of first number\n",
    "    num2: int/float\n",
    "            value of second number\n",
    "    \n",
    "    Returns\n",
    "    --------\n",
    "    int/float\n",
    "        multipication of two numbers\n",
    "    '''\n",
    "    return num1 * num2\n",
    "multiply(2,3.23)"
   ]
  },
  {
   "cell_type": "markdown",
   "id": "d2dc109d",
   "metadata": {},
   "source": [
    "2. Write a function that will check if a number is palindrome or not (with docstring)"
   ]
  },
  {
   "cell_type": "code",
   "execution_count": 1,
   "id": "9d2a5732",
   "metadata": {},
   "outputs": [
    {
     "data": {
      "text/plain": [
       "True"
      ]
     },
     "execution_count": 1,
     "metadata": {},
     "output_type": "execute_result"
    }
   ],
   "source": [
    "def is_palindrome(num):\n",
    "    '''\n",
    "    check if a number is palindrome or not\n",
    "    \n",
    "    Parameters\n",
    "    ----------\n",
    "    num: int/float\n",
    "        the num which have to be checked\n",
    "        \n",
    "    Returns\n",
    "    -------\n",
    "    bool\n",
    "        True if the number is palindoreme,\n",
    "        False otherwise.\n",
    "    '''\n",
    "\n",
    "    if str(num) == (\"\").join([c for c in reversed(str(num))]):\n",
    "        return True\n",
    "    return False\n",
    "\n",
    "is_palindrome(23.32)"
   ]
  }
 ],
 "metadata": {
  "kernelspec": {
   "display_name": "Python 3 (ipykernel)",
   "language": "python",
   "name": "python3"
  },
  "language_info": {
   "codemirror_mode": {
    "name": "ipython",
    "version": 3
   },
   "file_extension": ".py",
   "mimetype": "text/x-python",
   "name": "python",
   "nbconvert_exporter": "python",
   "pygments_lexer": "ipython3",
   "version": "3.9.13"
  }
 },
 "nbformat": 4,
 "nbformat_minor": 5
}
