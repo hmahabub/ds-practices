{
 "cells": [
  {
   "cell_type": "markdown",
   "id": "5688e3d4",
   "metadata": {},
   "source": [
    "# Assignment 6\n",
    "\n",
    "### Name: Hasan Mahabub Sayem     \n",
    "### Mobile: 01832829921"
   ]
  },
  {
   "cell_type": "markdown",
   "id": "d5b414f1",
   "metadata": {},
   "source": [
    "1. Read any csv file (for example titanic data :https://www.kaggle.com/competitions/titanic/data)\n",
    "1. Remove duplicate\n",
    "1. Check missing values\n",
    "1. Fill missing values with any constant value\n",
    "1. GroupBy mean, median and sum it using any Categorical column \n",
    "1. save it as csv file\n"
   ]
  },
  {
   "cell_type": "code",
   "execution_count": 43,
   "id": "eefbb237",
   "metadata": {},
   "outputs": [],
   "source": [
    "import pandas as pd"
   ]
  },
  {
   "cell_type": "code",
   "execution_count": 44,
   "id": "7469d3ad",
   "metadata": {},
   "outputs": [
    {
     "data": {
      "text/html": [
       "<div>\n",
       "<style scoped>\n",
       "    .dataframe tbody tr th:only-of-type {\n",
       "        vertical-align: middle;\n",
       "    }\n",
       "\n",
       "    .dataframe tbody tr th {\n",
       "        vertical-align: top;\n",
       "    }\n",
       "\n",
       "    .dataframe thead th {\n",
       "        text-align: right;\n",
       "    }\n",
       "</style>\n",
       "<table border=\"1\" class=\"dataframe\">\n",
       "  <thead>\n",
       "    <tr style=\"text-align: right;\">\n",
       "      <th></th>\n",
       "      <th>PassengerId</th>\n",
       "      <th>Survived</th>\n",
       "      <th>Pclass</th>\n",
       "      <th>Name</th>\n",
       "      <th>Sex</th>\n",
       "      <th>Age</th>\n",
       "      <th>SibSp</th>\n",
       "      <th>Parch</th>\n",
       "      <th>Ticket</th>\n",
       "      <th>Fare</th>\n",
       "      <th>Cabin</th>\n",
       "      <th>Embarked</th>\n",
       "    </tr>\n",
       "  </thead>\n",
       "  <tbody>\n",
       "    <tr>\n",
       "      <th>0</th>\n",
       "      <td>1</td>\n",
       "      <td>0</td>\n",
       "      <td>3</td>\n",
       "      <td>Braund, Mr. Owen Harris</td>\n",
       "      <td>male</td>\n",
       "      <td>22.0</td>\n",
       "      <td>1</td>\n",
       "      <td>0</td>\n",
       "      <td>A/5 21171</td>\n",
       "      <td>7.2500</td>\n",
       "      <td>NaN</td>\n",
       "      <td>S</td>\n",
       "    </tr>\n",
       "    <tr>\n",
       "      <th>1</th>\n",
       "      <td>2</td>\n",
       "      <td>1</td>\n",
       "      <td>1</td>\n",
       "      <td>Cumings, Mrs. John Bradley (Florence Briggs Th...</td>\n",
       "      <td>female</td>\n",
       "      <td>38.0</td>\n",
       "      <td>1</td>\n",
       "      <td>0</td>\n",
       "      <td>PC 17599</td>\n",
       "      <td>71.2833</td>\n",
       "      <td>C85</td>\n",
       "      <td>C</td>\n",
       "    </tr>\n",
       "    <tr>\n",
       "      <th>2</th>\n",
       "      <td>3</td>\n",
       "      <td>1</td>\n",
       "      <td>3</td>\n",
       "      <td>Heikkinen, Miss. Laina</td>\n",
       "      <td>female</td>\n",
       "      <td>26.0</td>\n",
       "      <td>0</td>\n",
       "      <td>0</td>\n",
       "      <td>STON/O2. 3101282</td>\n",
       "      <td>7.9250</td>\n",
       "      <td>NaN</td>\n",
       "      <td>S</td>\n",
       "    </tr>\n",
       "    <tr>\n",
       "      <th>3</th>\n",
       "      <td>4</td>\n",
       "      <td>1</td>\n",
       "      <td>1</td>\n",
       "      <td>Futrelle, Mrs. Jacques Heath (Lily May Peel)</td>\n",
       "      <td>female</td>\n",
       "      <td>35.0</td>\n",
       "      <td>1</td>\n",
       "      <td>0</td>\n",
       "      <td>113803</td>\n",
       "      <td>53.1000</td>\n",
       "      <td>C123</td>\n",
       "      <td>S</td>\n",
       "    </tr>\n",
       "    <tr>\n",
       "      <th>4</th>\n",
       "      <td>5</td>\n",
       "      <td>0</td>\n",
       "      <td>3</td>\n",
       "      <td>Allen, Mr. William Henry</td>\n",
       "      <td>male</td>\n",
       "      <td>35.0</td>\n",
       "      <td>0</td>\n",
       "      <td>0</td>\n",
       "      <td>373450</td>\n",
       "      <td>8.0500</td>\n",
       "      <td>NaN</td>\n",
       "      <td>S</td>\n",
       "    </tr>\n",
       "  </tbody>\n",
       "</table>\n",
       "</div>"
      ],
      "text/plain": [
       "   PassengerId  Survived  Pclass  \\\n",
       "0            1         0       3   \n",
       "1            2         1       1   \n",
       "2            3         1       3   \n",
       "3            4         1       1   \n",
       "4            5         0       3   \n",
       "\n",
       "                                                Name     Sex   Age  SibSp  \\\n",
       "0                            Braund, Mr. Owen Harris    male  22.0      1   \n",
       "1  Cumings, Mrs. John Bradley (Florence Briggs Th...  female  38.0      1   \n",
       "2                             Heikkinen, Miss. Laina  female  26.0      0   \n",
       "3       Futrelle, Mrs. Jacques Heath (Lily May Peel)  female  35.0      1   \n",
       "4                           Allen, Mr. William Henry    male  35.0      0   \n",
       "\n",
       "   Parch            Ticket     Fare Cabin Embarked  \n",
       "0      0         A/5 21171   7.2500   NaN        S  \n",
       "1      0          PC 17599  71.2833   C85        C  \n",
       "2      0  STON/O2. 3101282   7.9250   NaN        S  \n",
       "3      0            113803  53.1000  C123        S  \n",
       "4      0            373450   8.0500   NaN        S  "
      ]
     },
     "execution_count": 44,
     "metadata": {},
     "output_type": "execute_result"
    }
   ],
   "source": [
    "titanic = pd.read_csv(\"./train.csv\")\n",
    "titanic.head()"
   ]
  },
  {
   "cell_type": "code",
   "execution_count": 118,
   "id": "e8a249af",
   "metadata": {},
   "outputs": [],
   "source": [
    "# removing duplicates\n",
    "unique_titanic = titanic.drop_duplicates()"
   ]
  },
  {
   "cell_type": "code",
   "execution_count": 119,
   "id": "47569c1d",
   "metadata": {},
   "outputs": [
    {
     "data": {
      "text/plain": [
       "PassengerId      0\n",
       "Survived         0\n",
       "Pclass           0\n",
       "Name             0\n",
       "Sex              0\n",
       "Age            177\n",
       "SibSp            0\n",
       "Parch            0\n",
       "Ticket           0\n",
       "Fare             0\n",
       "Cabin          687\n",
       "Embarked         2\n",
       "dtype: int64"
      ]
     },
     "execution_count": 119,
     "metadata": {},
     "output_type": "execute_result"
    }
   ],
   "source": [
    "# checking missing values\n",
    "unique_titanic.isna().sum()"
   ]
  },
  {
   "cell_type": "code",
   "execution_count": 127,
   "id": "a7953477",
   "metadata": {},
   "outputs": [],
   "source": [
    "# filling titanic Age column missing values with mean value\n",
    "age_mean_value = titanic['Age'].mean()\n",
    "unique_titanic['Age'] = unique_titanic['Age'].fillna(age_mean_value)"
   ]
  },
  {
   "cell_type": "code",
   "execution_count": 61,
   "id": "02780d7f",
   "metadata": {},
   "outputs": [],
   "source": [
    "# filling other missing values\n",
    "filled_titanic = unique_titanic.fillna('Missing')"
   ]
  },
  {
   "cell_type": "markdown",
   "id": "efac7537",
   "metadata": {},
   "source": [
    "Analysing age with Pclass category"
   ]
  },
  {
   "cell_type": "code",
   "execution_count": 103,
   "id": "aa1b5346",
   "metadata": {},
   "outputs": [],
   "source": [
    "age_mean = filled_titanic.groupby('Pclass')['Age'].mean()\n",
    "age_median = filled_titanic.groupby('Pclass')['Age'].median()\n",
    "age_sum = filled_titanic.groupby('Pclass')['Age'].sum()\n",
    "\n",
    "mean_median = pd.merge(age_mean,age_median, how='outer', on='Pclass')\n",
    "output = pd.merge(mean_median,age_sum, how='outer',on=\"Pclass\")\n",
    "\n",
    "output.rename(columns={\"Age_x\":'Mean',\n",
    "                      \"Age_y\":'Median',\n",
    "                       \"Age\":'Sum',\n",
    "                      },inplace=True)"
   ]
  },
  {
   "cell_type": "code",
   "execution_count": 88,
   "id": "8cc1d254",
   "metadata": {},
   "outputs": [],
   "source": [
    "# save it as csv file\n",
    "output.to_csv('output_1.csv')"
   ]
  },
  {
   "cell_type": "markdown",
   "id": "1c611d71",
   "metadata": {},
   "source": [
    "Analysing fare with sex category"
   ]
  },
  {
   "cell_type": "code",
   "execution_count": 99,
   "id": "495495cb",
   "metadata": {},
   "outputs": [
    {
     "data": {
      "text/html": [
       "<div>\n",
       "<style scoped>\n",
       "    .dataframe tbody tr th:only-of-type {\n",
       "        vertical-align: middle;\n",
       "    }\n",
       "\n",
       "    .dataframe tbody tr th {\n",
       "        vertical-align: top;\n",
       "    }\n",
       "\n",
       "    .dataframe thead th {\n",
       "        text-align: right;\n",
       "    }\n",
       "</style>\n",
       "<table border=\"1\" class=\"dataframe\">\n",
       "  <thead>\n",
       "    <tr style=\"text-align: right;\">\n",
       "      <th>Fare</th>\n",
       "      <th>Mean</th>\n",
       "      <th>Median</th>\n",
       "      <th>Sum</th>\n",
       "    </tr>\n",
       "    <tr>\n",
       "      <th>Sex</th>\n",
       "      <th></th>\n",
       "      <th></th>\n",
       "      <th></th>\n",
       "    </tr>\n",
       "  </thead>\n",
       "  <tbody>\n",
       "    <tr>\n",
       "      <th>female</th>\n",
       "      <td>44.479818</td>\n",
       "      <td>23.0</td>\n",
       "      <td>13966.6628</td>\n",
       "    </tr>\n",
       "    <tr>\n",
       "      <th>male</th>\n",
       "      <td>25.523893</td>\n",
       "      <td>10.5</td>\n",
       "      <td>14727.2865</td>\n",
       "    </tr>\n",
       "  </tbody>\n",
       "</table>\n",
       "</div>"
      ],
      "text/plain": [
       "Fare         Mean  Median         Sum\n",
       "Sex                                  \n",
       "female  44.479818    23.0  13966.6628\n",
       "male    25.523893    10.5  14727.2865"
      ]
     },
     "execution_count": 99,
     "metadata": {},
     "output_type": "execute_result"
    }
   ],
   "source": [
    "fare_mean = filled_titanic.groupby('Sex')['Fare'].mean()\n",
    "fare_median = filled_titanic.groupby('Sex')['Fare'].median()\n",
    "fare_sum = filled_titanic.groupby('Sex')['Fare'].sum()\n",
    "\n",
    "mean_median = pd.merge(fare_mean,fare_median, how='outer', on='Sex')\n",
    "output_2 = pd.merge(mean_median,fare_sum, how='outer',on=\"Sex\")\n",
    "\n",
    "output_2.rename(columns={\"Fare_x\":'Mean',\n",
    "                      \"Fare_y\":'Median',\n",
    "                       \"Fare\":'Sum',\n",
    "                      },inplace=True)\n",
    "output_2.rename_axis('Fare',axis='columns',inplace=True)"
   ]
  },
  {
   "cell_type": "code",
   "execution_count": 101,
   "id": "66e78cc9",
   "metadata": {},
   "outputs": [],
   "source": [
    "# save it as csv file\n",
    "output_2.to_csv('output_2.csv')"
   ]
  }
 ],
 "metadata": {
  "kernelspec": {
   "display_name": "Python 3 (ipykernel)",
   "language": "python",
   "name": "python3"
  },
  "language_info": {
   "codemirror_mode": {
    "name": "ipython",
    "version": 3
   },
   "file_extension": ".py",
   "mimetype": "text/x-python",
   "name": "python",
   "nbconvert_exporter": "python",
   "pygments_lexer": "ipython3",
   "version": "3.9.13"
  }
 },
 "nbformat": 4,
 "nbformat_minor": 5
}
