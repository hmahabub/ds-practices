{
 "cells": [
  {
   "cell_type": "markdown",
   "id": "a9c1d1ea",
   "metadata": {},
   "source": [
    "# Assignment #3\n",
    "\n",
    "### Name: Hasan Mahabub Sayem     \n",
    "### Mobile: 01832829921"
   ]
  },
  {
   "cell_type": "markdown",
   "id": "f1d84f87",
   "metadata": {},
   "source": [
    "Write a Python class to sum of all input integers. (Class should have constructor and one method inside class to do sum)\n",
    "\n",
    "```python\n",
    "    class AssignmentThree:\n",
    "\n",
    "        def __init__(self, *integers): \n",
    "            self.integers = Integers\n",
    "\n",
    "        def sum(self): \n",
    "            your code\n",
    "```"
   ]
  },
  {
   "cell_type": "code",
   "execution_count": null,
   "id": "39bb1881",
   "metadata": {},
   "outputs": [],
   "source": [
    "class AssignmentThree:\n",
    "        \n",
    "        # defining construtor\n",
    "        def __init__(self, *integers): \n",
    "            self.integers = integers\n",
    "        \n",
    "        # defining class method to sum all integers\n",
    "        def sum(self): \n",
    "            return sum(self.integers)\n",
    "\n",
    "even = AssignmentThree(2,4,6,8,10,12)\n",
    "even.sum()"
   ]
  }
 ],
 "metadata": {
  "kernelspec": {
   "display_name": "Python 3 (ipykernel)",
   "language": "python",
   "name": "python3"
  },
  "language_info": {
   "codemirror_mode": {
    "name": "ipython",
    "version": 3
   },
   "file_extension": ".py",
   "mimetype": "text/x-python",
   "name": "python",
   "nbconvert_exporter": "python",
   "pygments_lexer": "ipython3",
   "version": "3.9.13"
  }
 },
 "nbformat": 4,
 "nbformat_minor": 5
}
