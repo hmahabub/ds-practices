{
 "cells": [
  {
   "cell_type": "markdown",
   "id": "ca21b4c3",
   "metadata": {},
   "source": [
    "## Hasan Mahabub Sayem\n",
    "### 01832829921"
   ]
  },
  {
   "cell_type": "markdown",
   "id": "de25bbfb",
   "metadata": {},
   "source": [
    "# Feature Engineering With Real-Life Dataset Assignment #11 \n",
    "Dataset : https://www.kaggle.com/datasets/patrickgendotti/udacity-course-catalog\n",
    "\n",
    "1. Download and Read data using pandas\n",
    "2. Handle missing values in 'Level', 'Duration', 'Review Count' and 'rating' columns\n",
    "3. Apply one-hot encoding for 'Level' column\n",
    "4. Apply data bining for 'Rating' column\n",
    "5. Apply boxcox transformer for 'Review Count' column and plot the distribution (before and after transformer)"
   ]
  },
  {
   "cell_type": "code",
   "execution_count": 1,
   "id": "9ef2a2dd",
   "metadata": {},
   "outputs": [],
   "source": [
    "import pandas as pd\n",
    "import numpy as np\n",
    "import matplotlib.pyplot as plt\n",
    "import seaborn as sns"
   ]
  },
  {
   "cell_type": "code",
   "execution_count": 3,
   "id": "28201d4f",
   "metadata": {},
   "outputs": [],
   "source": [
    "# Read data using pandas\n",
    "df = pd.read_csv('./data/all_courses.csv')"
   ]
  },
  {
   "cell_type": "code",
   "execution_count": 4,
   "id": "49597851",
   "metadata": {},
   "outputs": [
    {
     "data": {
      "text/plain": [
       "(267, 11)"
      ]
     },
     "execution_count": 4,
     "metadata": {},
     "output_type": "execute_result"
    }
   ],
   "source": [
    "df.shape"
   ]
  },
  {
   "cell_type": "code",
   "execution_count": 5,
   "id": "b7e5e66b",
   "metadata": {},
   "outputs": [
    {
     "data": {
      "text/html": [
       "<div>\n",
       "<style scoped>\n",
       "    .dataframe tbody tr th:only-of-type {\n",
       "        vertical-align: middle;\n",
       "    }\n",
       "\n",
       "    .dataframe tbody tr th {\n",
       "        vertical-align: top;\n",
       "    }\n",
       "\n",
       "    .dataframe thead th {\n",
       "        text-align: right;\n",
       "    }\n",
       "</style>\n",
       "<table border=\"1\" class=\"dataframe\">\n",
       "  <thead>\n",
       "    <tr style=\"text-align: right;\">\n",
       "      <th></th>\n",
       "      <th>Title</th>\n",
       "      <th>Type</th>\n",
       "      <th>Description</th>\n",
       "      <th>Level</th>\n",
       "      <th>Duration</th>\n",
       "      <th>Rating</th>\n",
       "      <th>Review Count</th>\n",
       "      <th>Skills Covered</th>\n",
       "      <th>Prerequisites</th>\n",
       "      <th>Affiliates</th>\n",
       "      <th>URL</th>\n",
       "    </tr>\n",
       "  </thead>\n",
       "  <tbody>\n",
       "    <tr>\n",
       "      <th>0</th>\n",
       "      <td>Data Engineering with AWS</td>\n",
       "      <td>nanodegree</td>\n",
       "      <td>Learn to design data models, build data wareho...</td>\n",
       "      <td>intermediate</td>\n",
       "      <td>4 Months</td>\n",
       "      <td>4.6</td>\n",
       "      <td>1802.0</td>\n",
       "      <td>AWS Glue,  Amazon S3,  AWS Data Warehouse,  Re...</td>\n",
       "      <td>Intermediate Python, intermediate SQL &amp; comman...</td>\n",
       "      <td>NaN</td>\n",
       "      <td>https://www.udacity.com/course/data-engineer-n...</td>\n",
       "    </tr>\n",
       "    <tr>\n",
       "      <th>1</th>\n",
       "      <td>Product Manager</td>\n",
       "      <td>nanodegree</td>\n",
       "      <td>Envision and execute the development of indust...</td>\n",
       "      <td>beginner</td>\n",
       "      <td>4 Months</td>\n",
       "      <td>4.7</td>\n",
       "      <td>864.0</td>\n",
       "      <td>Product Strategy, Product Design, Product Deve...</td>\n",
       "      <td>No Experience Required</td>\n",
       "      <td>NaN</td>\n",
       "      <td>https://www.udacity.com/course/product-manager...</td>\n",
       "    </tr>\n",
       "    <tr>\n",
       "      <th>2</th>\n",
       "      <td>C++</td>\n",
       "      <td>nanodegree</td>\n",
       "      <td>Get hands-on experience building five real-wor...</td>\n",
       "      <td>intermediate</td>\n",
       "      <td>4 Months</td>\n",
       "      <td>4.5</td>\n",
       "      <td>1126.0</td>\n",
       "      <td>Data Structures &amp; Algorithms, Memory Managemen...</td>\n",
       "      <td>Intermediate Programming</td>\n",
       "      <td>NaN</td>\n",
       "      <td>https://www.udacity.com/course/c-plus-plus-nan...</td>\n",
       "    </tr>\n",
       "    <tr>\n",
       "      <th>3</th>\n",
       "      <td>Business Analytics</td>\n",
       "      <td>nanodegree</td>\n",
       "      <td>Gain foundational data skills like analyzing d...</td>\n",
       "      <td>beginner</td>\n",
       "      <td>3 Months</td>\n",
       "      <td>4.8</td>\n",
       "      <td>2649.0</td>\n",
       "      <td>Excel &amp; Spreadsheets, SQL, Data Visualization,...</td>\n",
       "      <td>None</td>\n",
       "      <td>Mode</td>\n",
       "      <td>https://www.udacity.com/course/business-analyt...</td>\n",
       "    </tr>\n",
       "    <tr>\n",
       "      <th>4</th>\n",
       "      <td>Data Scientist</td>\n",
       "      <td>nanodegree</td>\n",
       "      <td>Build effective machine learning models, run d...</td>\n",
       "      <td>advanced</td>\n",
       "      <td>4 Months</td>\n",
       "      <td>4.7</td>\n",
       "      <td>1212.0</td>\n",
       "      <td>Machine Learning, Deep Learning, Software Engi...</td>\n",
       "      <td>Python, SQL &amp; Statistics</td>\n",
       "      <td>Bertelsmann, Figure Eight, IBM Watson, Insight...</td>\n",
       "      <td>https://www.udacity.com/course/data-scientist-...</td>\n",
       "    </tr>\n",
       "  </tbody>\n",
       "</table>\n",
       "</div>"
      ],
      "text/plain": [
       "                       Title        Type  \\\n",
       "0  Data Engineering with AWS  nanodegree   \n",
       "1            Product Manager  nanodegree   \n",
       "2                        C++  nanodegree   \n",
       "3         Business Analytics  nanodegree   \n",
       "4             Data Scientist  nanodegree   \n",
       "\n",
       "                                         Description         Level  Duration  \\\n",
       "0  Learn to design data models, build data wareho...  intermediate  4 Months   \n",
       "1  Envision and execute the development of indust...      beginner  4 Months   \n",
       "2  Get hands-on experience building five real-wor...  intermediate  4 Months   \n",
       "3  Gain foundational data skills like analyzing d...      beginner  3 Months   \n",
       "4  Build effective machine learning models, run d...      advanced  4 Months   \n",
       "\n",
       "   Rating  Review Count                                     Skills Covered  \\\n",
       "0     4.6        1802.0  AWS Glue,  Amazon S3,  AWS Data Warehouse,  Re...   \n",
       "1     4.7         864.0  Product Strategy, Product Design, Product Deve...   \n",
       "2     4.5        1126.0  Data Structures & Algorithms, Memory Managemen...   \n",
       "3     4.8        2649.0  Excel & Spreadsheets, SQL, Data Visualization,...   \n",
       "4     4.7        1212.0  Machine Learning, Deep Learning, Software Engi...   \n",
       "\n",
       "                                       Prerequisites  \\\n",
       "0  Intermediate Python, intermediate SQL & comman...   \n",
       "1                             No Experience Required   \n",
       "2                           Intermediate Programming   \n",
       "3                                               None   \n",
       "4                           Python, SQL & Statistics   \n",
       "\n",
       "                                          Affiliates  \\\n",
       "0                                                NaN   \n",
       "1                                                NaN   \n",
       "2                                                NaN   \n",
       "3                                               Mode   \n",
       "4  Bertelsmann, Figure Eight, IBM Watson, Insight...   \n",
       "\n",
       "                                                 URL  \n",
       "0  https://www.udacity.com/course/data-engineer-n...  \n",
       "1  https://www.udacity.com/course/product-manager...  \n",
       "2  https://www.udacity.com/course/c-plus-plus-nan...  \n",
       "3  https://www.udacity.com/course/business-analyt...  \n",
       "4  https://www.udacity.com/course/data-scientist-...  "
      ]
     },
     "execution_count": 5,
     "metadata": {},
     "output_type": "execute_result"
    }
   ],
   "source": [
    "df.head()"
   ]
  },
  {
   "cell_type": "code",
   "execution_count": 6,
   "id": "bc755483",
   "metadata": {},
   "outputs": [
    {
     "name": "stdout",
     "output_type": "stream",
     "text": [
      "Total no. of null value in Level is 2\n",
      "Null value percentage in Level is 0.7490636704119851% \n",
      "\n",
      "Total no. of null value in Duration is 4\n",
      "Null value percentage in Duration is 1.4981273408239701% \n",
      "\n",
      "Total no. of null value in Review Count is 205\n",
      "Null value percentage in Review Count is 76.77902621722846% \n",
      "\n",
      "Total no. of null value in Rating is 205\n",
      "Null value percentage in Rating is 76.77902621722846% \n",
      "\n"
     ]
    }
   ],
   "source": [
    "for f in ['Level', 'Duration', 'Review Count', 'Rating' ]:\n",
    "    print(f'Total no. of null value in {f} is {df[f].isnull().sum()}')\n",
    "    print(f'Null value percentage in {f} is {(df[f].isnull().sum()/df.shape[0])*100}% \\n')"
   ]
  },
  {
   "cell_type": "code",
   "execution_count": 7,
   "id": "f662e146",
   "metadata": {},
   "outputs": [
    {
     "data": {
      "text/html": [
       "<div>\n",
       "<style scoped>\n",
       "    .dataframe tbody tr th:only-of-type {\n",
       "        vertical-align: middle;\n",
       "    }\n",
       "\n",
       "    .dataframe tbody tr th {\n",
       "        vertical-align: top;\n",
       "    }\n",
       "\n",
       "    .dataframe thead th {\n",
       "        text-align: right;\n",
       "    }\n",
       "</style>\n",
       "<table border=\"1\" class=\"dataframe\">\n",
       "  <thead>\n",
       "    <tr style=\"text-align: right;\">\n",
       "      <th></th>\n",
       "      <th>Title</th>\n",
       "      <th>Type</th>\n",
       "      <th>Description</th>\n",
       "      <th>Level</th>\n",
       "      <th>Duration</th>\n",
       "      <th>Rating</th>\n",
       "      <th>Review Count</th>\n",
       "      <th>Skills Covered</th>\n",
       "      <th>Prerequisites</th>\n",
       "      <th>Affiliates</th>\n",
       "      <th>URL</th>\n",
       "    </tr>\n",
       "  </thead>\n",
       "  <tbody>\n",
       "    <tr>\n",
       "      <th>217</th>\n",
       "      <td>Configuring Linux Web Servers</td>\n",
       "      <td>free</td>\n",
       "      <td>NaN</td>\n",
       "      <td>NaN</td>\n",
       "      <td>1 Week</td>\n",
       "      <td>NaN</td>\n",
       "      <td>NaN</td>\n",
       "      <td>Android Development, Firebase, Analytics</td>\n",
       "      <td>NaN</td>\n",
       "      <td>NaN</td>\n",
       "      <td>https://www.udacity.com/course/configuring-lin...</td>\n",
       "    </tr>\n",
       "    <tr>\n",
       "      <th>220</th>\n",
       "      <td>Passwordless Login Solutions for Android</td>\n",
       "      <td>free</td>\n",
       "      <td>NaN</td>\n",
       "      <td>NaN</td>\n",
       "      <td>1 Week</td>\n",
       "      <td>NaN</td>\n",
       "      <td>NaN</td>\n",
       "      <td>Google Maps APIs, Static Maps, Street View ima...</td>\n",
       "      <td>NaN</td>\n",
       "      <td>Facebook for Developers</td>\n",
       "      <td>https://www.udacity.com/course/passwordless-lo...</td>\n",
       "    </tr>\n",
       "  </tbody>\n",
       "</table>\n",
       "</div>"
      ],
      "text/plain": [
       "                                        Title  Type Description Level  \\\n",
       "217             Configuring Linux Web Servers  free         NaN   NaN   \n",
       "220  Passwordless Login Solutions for Android  free         NaN   NaN   \n",
       "\n",
       "    Duration  Rating  Review Count  \\\n",
       "217   1 Week     NaN           NaN   \n",
       "220   1 Week     NaN           NaN   \n",
       "\n",
       "                                        Skills Covered Prerequisites  \\\n",
       "217           Android Development, Firebase, Analytics           NaN   \n",
       "220  Google Maps APIs, Static Maps, Street View ima...           NaN   \n",
       "\n",
       "                  Affiliates  \\\n",
       "217                      NaN   \n",
       "220  Facebook for Developers   \n",
       "\n",
       "                                                   URL  \n",
       "217  https://www.udacity.com/course/configuring-lin...  \n",
       "220  https://www.udacity.com/course/passwordless-lo...  "
      ]
     },
     "execution_count": 7,
     "metadata": {},
     "output_type": "execute_result"
    }
   ],
   "source": [
    "df[df['Level'].isnull()]"
   ]
  },
  {
   "cell_type": "code",
   "execution_count": 8,
   "id": "7db0af6b",
   "metadata": {},
   "outputs": [
    {
     "data": {
      "text/plain": [
       "array(['intermediate', 'beginner', 'advanced', nan], dtype=object)"
      ]
     },
     "execution_count": 8,
     "metadata": {},
     "output_type": "execute_result"
    }
   ],
   "source": [
    "df['Level'].unique()"
   ]
  },
  {
   "cell_type": "code",
   "execution_count": 9,
   "id": "eb8a7e93",
   "metadata": {},
   "outputs": [
    {
     "data": {
      "text/html": [
       "<div>\n",
       "<style scoped>\n",
       "    .dataframe tbody tr th:only-of-type {\n",
       "        vertical-align: middle;\n",
       "    }\n",
       "\n",
       "    .dataframe tbody tr th {\n",
       "        vertical-align: top;\n",
       "    }\n",
       "\n",
       "    .dataframe thead th {\n",
       "        text-align: right;\n",
       "    }\n",
       "</style>\n",
       "<table border=\"1\" class=\"dataframe\">\n",
       "  <thead>\n",
       "    <tr style=\"text-align: right;\">\n",
       "      <th></th>\n",
       "      <th>mode</th>\n",
       "    </tr>\n",
       "    <tr>\n",
       "      <th>Type</th>\n",
       "      <th></th>\n",
       "    </tr>\n",
       "  </thead>\n",
       "  <tbody>\n",
       "    <tr>\n",
       "      <th>course</th>\n",
       "      <td>[beginner, intermediate]</td>\n",
       "    </tr>\n",
       "    <tr>\n",
       "      <th>free</th>\n",
       "      <td>intermediate</td>\n",
       "    </tr>\n",
       "    <tr>\n",
       "      <th>nanodegree</th>\n",
       "      <td>intermediate</td>\n",
       "    </tr>\n",
       "  </tbody>\n",
       "</table>\n",
       "</div>"
      ],
      "text/plain": [
       "                                mode\n",
       "Type                                \n",
       "course      [beginner, intermediate]\n",
       "free                    intermediate\n",
       "nanodegree              intermediate"
      ]
     },
     "execution_count": 9,
     "metadata": {},
     "output_type": "execute_result"
    }
   ],
   "source": [
    "df.groupby('Type')['Level'].agg([pd.Series.mode])"
   ]
  },
  {
   "cell_type": "markdown",
   "id": "c37fdcc3",
   "metadata": {},
   "source": [
    "Both of the null value have course type free. So we will fillup this null value with most frequent level which is 'intermidiate'."
   ]
  },
  {
   "cell_type": "code",
   "execution_count": 10,
   "id": "5bc1a50c",
   "metadata": {},
   "outputs": [],
   "source": [
    "# fiiling missing value with constant\n",
    "df['Level'] = df['Level'].fillna('intermediate')"
   ]
  },
  {
   "cell_type": "code",
   "execution_count": 11,
   "id": "f2abacbe",
   "metadata": {},
   "outputs": [
    {
     "data": {
      "text/plain": [
       "array(['intermediate', 'beginner', 'advanced'], dtype=object)"
      ]
     },
     "execution_count": 11,
     "metadata": {},
     "output_type": "execute_result"
    }
   ],
   "source": [
    "df['Level'].unique()"
   ]
  },
  {
   "cell_type": "markdown",
   "id": "0faf4180",
   "metadata": {},
   "source": [
    "we will fill the missing duration value with thier most frequent duration of course"
   ]
  },
  {
   "cell_type": "code",
   "execution_count": 12,
   "id": "1d4c002b",
   "metadata": {},
   "outputs": [],
   "source": [
    "# filling missing value using SimpleImputer\n",
    "from sklearn.impute import SimpleImputer\n",
    "imputer = SimpleImputer(strategy='most_frequent')\n",
    "df['Duration'] = imputer.fit_transform(df['Duration'].values.reshape(-1, 1))"
   ]
  },
  {
   "cell_type": "code",
   "execution_count": 13,
   "id": "ff7a776f",
   "metadata": {},
   "outputs": [
    {
     "data": {
      "text/plain": [
       "0"
      ]
     },
     "execution_count": 13,
     "metadata": {},
     "output_type": "execute_result"
    }
   ],
   "source": [
    "df['Duration'].isnull().sum()"
   ]
  },
  {
   "cell_type": "code",
   "execution_count": 14,
   "id": "839d089b",
   "metadata": {},
   "outputs": [],
   "source": [
    "# filling missing value using KNNImputer\n",
    "from sklearn.impute import KNNImputer\n",
    "knn_imputer = KNNImputer(n_neighbors=3, weights=\"uniform\")\n",
    "df[['Review Count','Rating']] = knn_imputer.fit_transform(df[['Review Count','Rating']])"
   ]
  },
  {
   "cell_type": "code",
   "execution_count": 15,
   "id": "f1091f6c",
   "metadata": {},
   "outputs": [
    {
     "data": {
      "text/plain": [
       "(0, 0)"
      ]
     },
     "execution_count": 15,
     "metadata": {},
     "output_type": "execute_result"
    }
   ],
   "source": [
    "df['Review Count'].isnull().sum(), df['Rating'].isnull().sum()"
   ]
  },
  {
   "cell_type": "code",
   "execution_count": 16,
   "id": "6c799659",
   "metadata": {},
   "outputs": [
    {
     "name": "stdout",
     "output_type": "stream",
     "text": [
      "Total no. of null value in Level is 0\n",
      "Null value percentage in Level is 0.0% \n",
      "\n",
      "Total no. of null value in Duration is 0\n",
      "Null value percentage in Duration is 0.0% \n",
      "\n",
      "Total no. of null value in Review Count is 0\n",
      "Null value percentage in Review Count is 0.0% \n",
      "\n",
      "Total no. of null value in Rating is 0\n",
      "Null value percentage in Rating is 0.0% \n",
      "\n"
     ]
    }
   ],
   "source": [
    "for f in ['Level', 'Duration', 'Review Count', 'Rating' ]:\n",
    "    print(f'Total no. of null value in {f} is {df[f].isnull().sum()}')\n",
    "    print(f'Null value percentage in {f} is {(df[f].isnull().sum()/df.shape[0])*100}% \\n')"
   ]
  },
  {
   "cell_type": "markdown",
   "id": "931b3b22",
   "metadata": {},
   "source": [
    "Handled all missing value."
   ]
  },
  {
   "cell_type": "code",
   "execution_count": 17,
   "id": "23f20663",
   "metadata": {},
   "outputs": [
    {
     "data": {
      "text/html": [
       "<div>\n",
       "<style scoped>\n",
       "    .dataframe tbody tr th:only-of-type {\n",
       "        vertical-align: middle;\n",
       "    }\n",
       "\n",
       "    .dataframe tbody tr th {\n",
       "        vertical-align: top;\n",
       "    }\n",
       "\n",
       "    .dataframe thead th {\n",
       "        text-align: right;\n",
       "    }\n",
       "</style>\n",
       "<table border=\"1\" class=\"dataframe\">\n",
       "  <thead>\n",
       "    <tr style=\"text-align: right;\">\n",
       "      <th></th>\n",
       "      <th>Level</th>\n",
       "      <th>advanced</th>\n",
       "      <th>beginner</th>\n",
       "      <th>intermediate</th>\n",
       "    </tr>\n",
       "  </thead>\n",
       "  <tbody>\n",
       "    <tr>\n",
       "      <th>0</th>\n",
       "      <td>intermediate</td>\n",
       "      <td>0</td>\n",
       "      <td>0</td>\n",
       "      <td>1</td>\n",
       "    </tr>\n",
       "    <tr>\n",
       "      <th>1</th>\n",
       "      <td>beginner</td>\n",
       "      <td>0</td>\n",
       "      <td>1</td>\n",
       "      <td>0</td>\n",
       "    </tr>\n",
       "    <tr>\n",
       "      <th>2</th>\n",
       "      <td>intermediate</td>\n",
       "      <td>0</td>\n",
       "      <td>0</td>\n",
       "      <td>1</td>\n",
       "    </tr>\n",
       "    <tr>\n",
       "      <th>3</th>\n",
       "      <td>beginner</td>\n",
       "      <td>0</td>\n",
       "      <td>1</td>\n",
       "      <td>0</td>\n",
       "    </tr>\n",
       "    <tr>\n",
       "      <th>4</th>\n",
       "      <td>advanced</td>\n",
       "      <td>1</td>\n",
       "      <td>0</td>\n",
       "      <td>0</td>\n",
       "    </tr>\n",
       "    <tr>\n",
       "      <th>...</th>\n",
       "      <td>...</td>\n",
       "      <td>...</td>\n",
       "      <td>...</td>\n",
       "      <td>...</td>\n",
       "    </tr>\n",
       "    <tr>\n",
       "      <th>262</th>\n",
       "      <td>intermediate</td>\n",
       "      <td>0</td>\n",
       "      <td>0</td>\n",
       "      <td>1</td>\n",
       "    </tr>\n",
       "    <tr>\n",
       "      <th>263</th>\n",
       "      <td>intermediate</td>\n",
       "      <td>0</td>\n",
       "      <td>0</td>\n",
       "      <td>1</td>\n",
       "    </tr>\n",
       "    <tr>\n",
       "      <th>264</th>\n",
       "      <td>intermediate</td>\n",
       "      <td>0</td>\n",
       "      <td>0</td>\n",
       "      <td>1</td>\n",
       "    </tr>\n",
       "    <tr>\n",
       "      <th>265</th>\n",
       "      <td>intermediate</td>\n",
       "      <td>0</td>\n",
       "      <td>0</td>\n",
       "      <td>1</td>\n",
       "    </tr>\n",
       "    <tr>\n",
       "      <th>266</th>\n",
       "      <td>intermediate</td>\n",
       "      <td>0</td>\n",
       "      <td>0</td>\n",
       "      <td>1</td>\n",
       "    </tr>\n",
       "  </tbody>\n",
       "</table>\n",
       "<p>267 rows × 4 columns</p>\n",
       "</div>"
      ],
      "text/plain": [
       "            Level  advanced  beginner  intermediate\n",
       "0    intermediate         0         0             1\n",
       "1        beginner         0         1             0\n",
       "2    intermediate         0         0             1\n",
       "3        beginner         0         1             0\n",
       "4        advanced         1         0             0\n",
       "..            ...       ...       ...           ...\n",
       "262  intermediate         0         0             1\n",
       "263  intermediate         0         0             1\n",
       "264  intermediate         0         0             1\n",
       "265  intermediate         0         0             1\n",
       "266  intermediate         0         0             1\n",
       "\n",
       "[267 rows x 4 columns]"
      ]
     },
     "execution_count": 17,
     "metadata": {},
     "output_type": "execute_result"
    }
   ],
   "source": [
    "#one-hot encoding for 'Level' column\n",
    "cls = df['Level']\n",
    "data = pd.DataFrame(cls)\n",
    "\n",
    "one_hot = pd.get_dummies(cls)\n",
    "data = data.join(one_hot)\n",
    "data"
   ]
  },
  {
   "cell_type": "code",
   "execution_count": 18,
   "id": "4da065ac",
   "metadata": {},
   "outputs": [],
   "source": [
    "# data bining for 'Rating' column\n",
    "\n",
    "cut_labels = ['Bad', 'Not Bad','Average', 'Good','Very Good','Excellent']\n",
    "cut_bins = [0, 1, 2, 3, 4, 4.5, 5]\n",
    "\n",
    "df['Rating'] = pd.cut(df['Rating'], bins=cut_bins, labels=cut_labels)\n"
   ]
  },
  {
   "cell_type": "code",
   "execution_count": 19,
   "id": "59c32ea6",
   "metadata": {},
   "outputs": [
    {
     "data": {
      "text/html": [
       "<div>\n",
       "<style scoped>\n",
       "    .dataframe tbody tr th:only-of-type {\n",
       "        vertical-align: middle;\n",
       "    }\n",
       "\n",
       "    .dataframe tbody tr th {\n",
       "        vertical-align: top;\n",
       "    }\n",
       "\n",
       "    .dataframe thead th {\n",
       "        text-align: right;\n",
       "    }\n",
       "</style>\n",
       "<table border=\"1\" class=\"dataframe\">\n",
       "  <thead>\n",
       "    <tr style=\"text-align: right;\">\n",
       "      <th></th>\n",
       "      <th>Title</th>\n",
       "      <th>Type</th>\n",
       "      <th>Description</th>\n",
       "      <th>Level</th>\n",
       "      <th>Duration</th>\n",
       "      <th>Rating</th>\n",
       "      <th>Review Count</th>\n",
       "      <th>Skills Covered</th>\n",
       "      <th>Prerequisites</th>\n",
       "      <th>Affiliates</th>\n",
       "      <th>URL</th>\n",
       "    </tr>\n",
       "  </thead>\n",
       "  <tbody>\n",
       "    <tr>\n",
       "      <th>0</th>\n",
       "      <td>Data Engineering with AWS</td>\n",
       "      <td>nanodegree</td>\n",
       "      <td>Learn to design data models, build data wareho...</td>\n",
       "      <td>intermediate</td>\n",
       "      <td>4 Months</td>\n",
       "      <td>Excellent</td>\n",
       "      <td>1802.0</td>\n",
       "      <td>AWS Glue,  Amazon S3,  AWS Data Warehouse,  Re...</td>\n",
       "      <td>Intermediate Python, intermediate SQL &amp; comman...</td>\n",
       "      <td>NaN</td>\n",
       "      <td>https://www.udacity.com/course/data-engineer-n...</td>\n",
       "    </tr>\n",
       "    <tr>\n",
       "      <th>1</th>\n",
       "      <td>Product Manager</td>\n",
       "      <td>nanodegree</td>\n",
       "      <td>Envision and execute the development of indust...</td>\n",
       "      <td>beginner</td>\n",
       "      <td>4 Months</td>\n",
       "      <td>Excellent</td>\n",
       "      <td>864.0</td>\n",
       "      <td>Product Strategy, Product Design, Product Deve...</td>\n",
       "      <td>No Experience Required</td>\n",
       "      <td>NaN</td>\n",
       "      <td>https://www.udacity.com/course/product-manager...</td>\n",
       "    </tr>\n",
       "    <tr>\n",
       "      <th>2</th>\n",
       "      <td>C++</td>\n",
       "      <td>nanodegree</td>\n",
       "      <td>Get hands-on experience building five real-wor...</td>\n",
       "      <td>intermediate</td>\n",
       "      <td>4 Months</td>\n",
       "      <td>Very Good</td>\n",
       "      <td>1126.0</td>\n",
       "      <td>Data Structures &amp; Algorithms, Memory Managemen...</td>\n",
       "      <td>Intermediate Programming</td>\n",
       "      <td>NaN</td>\n",
       "      <td>https://www.udacity.com/course/c-plus-plus-nan...</td>\n",
       "    </tr>\n",
       "    <tr>\n",
       "      <th>3</th>\n",
       "      <td>Business Analytics</td>\n",
       "      <td>nanodegree</td>\n",
       "      <td>Gain foundational data skills like analyzing d...</td>\n",
       "      <td>beginner</td>\n",
       "      <td>3 Months</td>\n",
       "      <td>Excellent</td>\n",
       "      <td>2649.0</td>\n",
       "      <td>Excel &amp; Spreadsheets, SQL, Data Visualization,...</td>\n",
       "      <td>None</td>\n",
       "      <td>Mode</td>\n",
       "      <td>https://www.udacity.com/course/business-analyt...</td>\n",
       "    </tr>\n",
       "    <tr>\n",
       "      <th>4</th>\n",
       "      <td>Data Scientist</td>\n",
       "      <td>nanodegree</td>\n",
       "      <td>Build effective machine learning models, run d...</td>\n",
       "      <td>advanced</td>\n",
       "      <td>4 Months</td>\n",
       "      <td>Excellent</td>\n",
       "      <td>1212.0</td>\n",
       "      <td>Machine Learning, Deep Learning, Software Engi...</td>\n",
       "      <td>Python, SQL &amp; Statistics</td>\n",
       "      <td>Bertelsmann, Figure Eight, IBM Watson, Insight...</td>\n",
       "      <td>https://www.udacity.com/course/data-scientist-...</td>\n",
       "    </tr>\n",
       "  </tbody>\n",
       "</table>\n",
       "</div>"
      ],
      "text/plain": [
       "                       Title        Type  \\\n",
       "0  Data Engineering with AWS  nanodegree   \n",
       "1            Product Manager  nanodegree   \n",
       "2                        C++  nanodegree   \n",
       "3         Business Analytics  nanodegree   \n",
       "4             Data Scientist  nanodegree   \n",
       "\n",
       "                                         Description         Level  Duration  \\\n",
       "0  Learn to design data models, build data wareho...  intermediate  4 Months   \n",
       "1  Envision and execute the development of indust...      beginner  4 Months   \n",
       "2  Get hands-on experience building five real-wor...  intermediate  4 Months   \n",
       "3  Gain foundational data skills like analyzing d...      beginner  3 Months   \n",
       "4  Build effective machine learning models, run d...      advanced  4 Months   \n",
       "\n",
       "      Rating  Review Count                                     Skills Covered  \\\n",
       "0  Excellent        1802.0  AWS Glue,  Amazon S3,  AWS Data Warehouse,  Re...   \n",
       "1  Excellent         864.0  Product Strategy, Product Design, Product Deve...   \n",
       "2  Very Good        1126.0  Data Structures & Algorithms, Memory Managemen...   \n",
       "3  Excellent        2649.0  Excel & Spreadsheets, SQL, Data Visualization,...   \n",
       "4  Excellent        1212.0  Machine Learning, Deep Learning, Software Engi...   \n",
       "\n",
       "                                       Prerequisites  \\\n",
       "0  Intermediate Python, intermediate SQL & comman...   \n",
       "1                             No Experience Required   \n",
       "2                           Intermediate Programming   \n",
       "3                                               None   \n",
       "4                           Python, SQL & Statistics   \n",
       "\n",
       "                                          Affiliates  \\\n",
       "0                                                NaN   \n",
       "1                                                NaN   \n",
       "2                                                NaN   \n",
       "3                                               Mode   \n",
       "4  Bertelsmann, Figure Eight, IBM Watson, Insight...   \n",
       "\n",
       "                                                 URL  \n",
       "0  https://www.udacity.com/course/data-engineer-n...  \n",
       "1  https://www.udacity.com/course/product-manager...  \n",
       "2  https://www.udacity.com/course/c-plus-plus-nan...  \n",
       "3  https://www.udacity.com/course/business-analyt...  \n",
       "4  https://www.udacity.com/course/data-scientist-...  "
      ]
     },
     "execution_count": 19,
     "metadata": {},
     "output_type": "execute_result"
    }
   ],
   "source": [
    "df.head()"
   ]
  },
  {
   "cell_type": "code",
   "execution_count": 146,
   "id": "7b8b80e6",
   "metadata": {},
   "outputs": [
    {
     "name": "stdout",
     "output_type": "stream",
     "text": [
      "lambda : 0.41159999716685663\n"
     ]
    },
    {
     "data": {
      "image/png": "[encoded data removed]",
      "text/plain": [
       "<Figure size 1200x400 with 2 Axes>"
      ]
     },
     "metadata": {},
     "output_type": "display_data"
    }
   ],
   "source": [
    "# Apply boxcox transformer for 'Review Count' column and plot the distribution (before and after transformer)\n",
    "from scipy.stats import boxcox\n",
    "\n",
    "rc = df['Review Count']\n",
    "rc, fitted_lambda = boxcox(rc, lmbda=None)\n",
    "df['BoxCox Review Count'] = rc\n",
    "\n",
    "print(\"lambda :\",fitted_lambda)\n",
    "\n",
    "fig, (ax1, ax2) = plt.subplots(1,2,figsize=(12,4))\n",
    "\n",
    "sns.histplot(x=df['Review Count'], bins=20, ax=ax1, kde=True)\n",
    "sns.histplot(x=df['BoxCox Review Count'] , bins=20, ax=ax2, kde=True)\n",
    "\n",
    "plt.show()"
   ]
  },
  {
   "cell_type": "code",
   "execution_count": null,
   "id": "09ced4b0",
   "metadata": {},
   "outputs": [],
   "source": []
  }
 ],
 "metadata": {
  "kernelspec": {
   "display_name": "Python 3 (ipykernel)",
   "language": "python",
   "name": "python3"
  },
  "language_info": {
   "codemirror_mode": {
    "name": "ipython",
    "version": 3
   },
   "file_extension": ".py",
   "mimetype": "text/x-python",
   "name": "python",
   "nbconvert_exporter": "python",
   "pygments_lexer": "ipython3",
   "version": "3.9.13"
  }
 },
 "nbformat": 4,
 "nbformat_minor": 5
}
