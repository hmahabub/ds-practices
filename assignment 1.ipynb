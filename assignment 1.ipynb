{
 "cells": [
  {
   "cell_type": "markdown",
   "id": "76b86ca9",
   "metadata": {},
   "source": [
    "# Assignment #1 \n",
    "\n",
    "### Name: Hasan Mahabub Sayem     \n",
    "### Mobile: 01832829921"
   ]
  },
  {
   "cell_type": "markdown",
   "id": "7bceae0c",
   "metadata": {},
   "source": [
    "- Print a pattern like this :\n",
    "\n",
    "```\n",
    "   1\n",
    "   2 3\n",
    "   4 5 6\n",
    "   7 8 9 10\n",
    "```\n"
   ]
  },
  {
   "cell_type": "code",
   "execution_count": 16,
   "id": "b1d5433c",
   "metadata": {},
   "outputs": [
    {
     "name": "stdout",
     "output_type": "stream",
     "text": [
      "1 \n",
      "2 3 \n",
      "4 5 6 \n",
      "7 8 9 10 \n"
     ]
    }
   ],
   "source": [
    "i = 1\n",
    "for itr in range(1,5):\n",
    "    for itr2 in range(1,itr+1):\n",
    "        print(str(i), end = \" \")\n",
    "        i +=1\n",
    "    print(\"\")\n",
    "    "
   ]
  },
  {
   "cell_type": "markdown",
   "id": "7b6fc0b6",
   "metadata": {},
   "source": [
    "- Given an List of integers nums and an integer target, return indices of the two numbers such that they add up to target.\n",
    "\n",
    "You may assume that each input would have exactly one solution, and you may not use the same element twice."
   ]
  },
  {
   "cell_type": "code",
   "execution_count": 9,
   "id": "a25cf946",
   "metadata": {},
   "outputs": [
    {
     "name": "stdout",
     "output_type": "stream",
     "text": [
      "The indices are 0,4\n"
     ]
    }
   ],
   "source": [
    "nums = [1, -4, 3, 5, 2]\n",
    "target = 3\n",
    "break_loop = False\n",
    "for index1, value1 in enumerate(nums):\n",
    "    for index2,value2 in enumerate(nums):\n",
    "        if index1 != index2 and target == value1 + value2:\n",
    "            print(f\"The indices are {index1},{index2}\")\n",
    "            break_loop = True\n",
    "            break\n",
    "    if break_loop:\n",
    "        break"
   ]
  }
 ],
 "metadata": {
  "kernelspec": {
   "display_name": "Python 3 (ipykernel)",
   "language": "python",
   "name": "python3"
  },
  "language_info": {
   "codemirror_mode": {
    "name": "ipython",
    "version": 3
   },
   "file_extension": ".py",
   "mimetype": "text/x-python",
   "name": "python",
   "nbconvert_exporter": "python",
   "pygments_lexer": "ipython3",
   "version": "3.9.13"
  }
 },
 "nbformat": 4,
 "nbformat_minor": 5
}
