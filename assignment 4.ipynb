{
 "cells": [
  {
   "cell_type": "markdown",
   "id": "70f0a123",
   "metadata": {},
   "source": [
    "# Assignment 4\n",
    "\n",
    "### Name: Hasan Mahabub Sayem     \n",
    "### Mobile: 01832829921"
   ]
  },
  {
   "cell_type": "markdown",
   "id": "10aa97c9",
   "metadata": {},
   "source": [
    "Write a Python abstract base class (only blueprint) For Employee class with two abstract methods:\n",
    "\n",
    "- get_position\n",
    "- get_salary\n",
    "\n",
    "then write a SalesEmployee class using that abstract class"
   ]
  },
  {
   "cell_type": "code",
   "execution_count": 3,
   "id": "2829ef5e",
   "metadata": {},
   "outputs": [
    {
     "data": {
      "text/plain": [
       "('Sr. Executive', 30000)"
      ]
     },
     "execution_count": 3,
     "metadata": {},
     "output_type": "execute_result"
    }
   ],
   "source": [
    "from abc import ABCMeta, abstractmethod\n",
    "\n",
    "class Employee(metaclass=ABCMeta):\n",
    "    \n",
    "    @abstractmethod\n",
    "    def get_position(self):\n",
    "        pass\n",
    "    \n",
    "    @abstractmethod\n",
    "    def get_salary(self):\n",
    "        pass\n",
    "\n",
    "class SalesEmployee(Employee):\n",
    "    def __init__(self, position, salary):\n",
    "        self.position = position\n",
    "        self.salary = salary\n",
    "    \n",
    "    def get_position(self):\n",
    "        return self.position\n",
    "    \n",
    "    def get_salary(self):\n",
    "        return self.salary\n",
    "\n",
    "rahim = SalesEmployee(\"Sr. Executive\", 30000)\n",
    "rahim.get_position(), rahim.get_salary()"
   ]
  }
 ],
 "metadata": {
  "kernelspec": {
   "display_name": "Python 3 (ipykernel)",
   "language": "python",
   "name": "python3"
  },
  "language_info": {
   "codemirror_mode": {
    "name": "ipython",
    "version": 3
   },
   "file_extension": ".py",
   "mimetype": "text/x-python",
   "name": "python",
   "nbconvert_exporter": "python",
   "pygments_lexer": "ipython3",
   "version": "3.9.13"
  }
 },
 "nbformat": 4,
 "nbformat_minor": 5
}
